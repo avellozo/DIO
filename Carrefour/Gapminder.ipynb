{
  "nbformat": 4,
  "nbformat_minor": 0,
  "metadata": {
    "colab": {
      "name": "Gapminder",
      "provenance": [],
      "toc_visible": true,
      "mount_file_id": "1Eg_TR-suW8R6OnvloyWb1pJZzvWLEMiP",
      "authorship_tag": "ABX9TyNYIxgUS5M7KaEMcXZyJTPb",
      "include_colab_link": true
    },
    "kernelspec": {
      "name": "python3",
      "display_name": "Python 3"
    },
    "language_info": {
      "name": "python"
    }
  },
  "cells": [
    {
      "cell_type": "markdown",
      "metadata": {
        "id": "view-in-github",
        "colab_type": "text"
      },
      "source": [
        "<a href=\"https://colab.research.google.com/github/avellozo/DIO/blob/main/Carrefour/Gapminder.ipynb\" target=\"_parent\"><img src=\"https://colab.research.google.com/assets/colab-badge.svg\" alt=\"Open In Colab\"/></a>"
      ]
    },
    {
      "cell_type": "markdown",
      "metadata": {
        "id": "oZR0PMdWVBnF"
      },
      "source": [
        "#Análise do dataset Gapminder"
      ]
    },
    {
      "cell_type": "markdown",
      "metadata": {
        "id": "jqgZxVxsVL7X"
      },
      "source": [
        "# Imports e inicializações gerais\n"
      ]
    },
    {
      "cell_type": "code",
      "metadata": {
        "id": "rEtYGrgbVHtv"
      },
      "source": [
        "import pandas as pd\n",
        "pd.options.display.float_format = '{:.2f}'.format\n"
      ],
      "execution_count": 78,
      "outputs": []
    },
    {
      "cell_type": "markdown",
      "metadata": {
        "id": "y26vg_E6VX4o"
      },
      "source": [
        "#Dataset load"
      ]
    },
    {
      "cell_type": "code",
      "metadata": {
        "id": "kFp1ayHMVScu"
      },
      "source": [
        "df = pd.read_csv(\"/content/drive/MyDrive/Colab Notebooks/DIO/Carrefour Data Engineer/Cusro_Python_Pandas_Digital_Innovation-master/datasets/Gapminder.csv\", sep=\";\")"
      ],
      "execution_count": 2,
      "outputs": []
    },
    {
      "cell_type": "markdown",
      "metadata": {
        "id": "OBz-g8zxV6-b"
      },
      "source": [
        "#Exploração do conteúdo do dataset"
      ]
    },
    {
      "cell_type": "code",
      "metadata": {
        "colab": {
          "base_uri": "https://localhost:8080/",
          "height": 358
        },
        "id": "IvZ8atZnV6Nd",
        "outputId": "ac1a09d4-1597-49f4-b642-9d182d20722f"
      },
      "source": [
        "df.sample(10)"
      ],
      "execution_count": 49,
      "outputs": [
        {
          "output_type": "execute_result",
          "data": {
            "text/html": [
              "<div>\n",
              "<style scoped>\n",
              "    .dataframe tbody tr th:only-of-type {\n",
              "        vertical-align: middle;\n",
              "    }\n",
              "\n",
              "    .dataframe tbody tr th {\n",
              "        vertical-align: top;\n",
              "    }\n",
              "\n",
              "    .dataframe thead th {\n",
              "        text-align: right;\n",
              "    }\n",
              "</style>\n",
              "<table border=\"1\" class=\"dataframe\">\n",
              "  <thead>\n",
              "    <tr style=\"text-align: right;\">\n",
              "      <th></th>\n",
              "      <th>country</th>\n",
              "      <th>continent</th>\n",
              "      <th>year</th>\n",
              "      <th>lifeExp</th>\n",
              "      <th>pop</th>\n",
              "      <th>gdpPercap</th>\n",
              "    </tr>\n",
              "  </thead>\n",
              "  <tbody>\n",
              "    <tr>\n",
              "      <th>1635</th>\n",
              "      <td>Korea, Dem. Rep.</td>\n",
              "      <td>Asia</td>\n",
              "      <td>1992</td>\n",
              "      <td>69.978</td>\n",
              "      <td>20711375</td>\n",
              "      <td>3726.063507</td>\n",
              "    </tr>\n",
              "    <tr>\n",
              "      <th>707</th>\n",
              "      <td>Cote d'Ivoire</td>\n",
              "      <td>Africa</td>\n",
              "      <td>1987</td>\n",
              "      <td>54.655</td>\n",
              "      <td>10761098</td>\n",
              "      <td>2156.956069</td>\n",
              "    </tr>\n",
              "    <tr>\n",
              "      <th>3256</th>\n",
              "      <td>Vietnam</td>\n",
              "      <td>Asia</td>\n",
              "      <td>1972</td>\n",
              "      <td>50.254</td>\n",
              "      <td>44655014</td>\n",
              "      <td>699.501644</td>\n",
              "    </tr>\n",
              "    <tr>\n",
              "      <th>1557</th>\n",
              "      <td>Japan</td>\n",
              "      <td>Asia</td>\n",
              "      <td>1966</td>\n",
              "      <td>71.140</td>\n",
              "      <td>99790308</td>\n",
              "      <td>8957.280440</td>\n",
              "    </tr>\n",
              "    <tr>\n",
              "      <th>2547</th>\n",
              "      <td>Saudi Arabia</td>\n",
              "      <td>Asia</td>\n",
              "      <td>1977</td>\n",
              "      <td>58.690</td>\n",
              "      <td>8128505</td>\n",
              "      <td>34167.762600</td>\n",
              "    </tr>\n",
              "    <tr>\n",
              "      <th>1198</th>\n",
              "      <td>Grenada</td>\n",
              "      <td>NaN</td>\n",
              "      <td>1992</td>\n",
              "      <td>66.469</td>\n",
              "      <td>91487</td>\n",
              "      <td>6098.922790</td>\n",
              "    </tr>\n",
              "    <tr>\n",
              "      <th>3215</th>\n",
              "      <td>United States</td>\n",
              "      <td>Americas</td>\n",
              "      <td>2005</td>\n",
              "      <td>77.890</td>\n",
              "      <td>295734134</td>\n",
              "      <td>41674.000000</td>\n",
              "    </tr>\n",
              "    <tr>\n",
              "      <th>1811</th>\n",
              "      <td>Luxembourg</td>\n",
              "      <td>Europe</td>\n",
              "      <td>1996</td>\n",
              "      <td>76.500</td>\n",
              "      <td>415566</td>\n",
              "      <td>49005.588530</td>\n",
              "    </tr>\n",
              "    <tr>\n",
              "      <th>2530</th>\n",
              "      <td>Sao Tome and Principe</td>\n",
              "      <td>NaN</td>\n",
              "      <td>1952</td>\n",
              "      <td>46.471</td>\n",
              "      <td>60011</td>\n",
              "      <td>879.583586</td>\n",
              "    </tr>\n",
              "    <tr>\n",
              "      <th>325</th>\n",
              "      <td>Benin</td>\n",
              "      <td>Africa</td>\n",
              "      <td>1982</td>\n",
              "      <td>50.904</td>\n",
              "      <td>3641603</td>\n",
              "      <td>1277.897616</td>\n",
              "    </tr>\n",
              "  </tbody>\n",
              "</table>\n",
              "</div>"
            ],
            "text/plain": [
              "                    country continent  year  lifeExp        pop     gdpPercap\n",
              "1635       Korea, Dem. Rep.      Asia  1992   69.978   20711375   3726.063507\n",
              "707           Cote d'Ivoire    Africa  1987   54.655   10761098   2156.956069\n",
              "3256                Vietnam      Asia  1972   50.254   44655014    699.501644\n",
              "1557                  Japan      Asia  1966   71.140   99790308   8957.280440\n",
              "2547           Saudi Arabia      Asia  1977   58.690    8128505  34167.762600\n",
              "1198                Grenada       NaN  1992   66.469      91487   6098.922790\n",
              "3215          United States  Americas  2005   77.890  295734134  41674.000000\n",
              "1811             Luxembourg    Europe  1996   76.500     415566  49005.588530\n",
              "2530  Sao Tome and Principe       NaN  1952   46.471      60011    879.583586\n",
              "325                   Benin    Africa  1982   50.904    3641603   1277.897616"
            ]
          },
          "metadata": {
            "tags": []
          },
          "execution_count": 49
        }
      ]
    },
    {
      "cell_type": "code",
      "metadata": {
        "colab": {
          "base_uri": "https://localhost:8080/"
        },
        "id": "aeeenpItWKSZ",
        "outputId": "695415b7-bbe3-4f3d-dba8-88654e60b1c8"
      },
      "source": [
        "df.shape"
      ],
      "execution_count": 4,
      "outputs": [
        {
          "output_type": "execute_result",
          "data": {
            "text/plain": [
              "(3312, 6)"
            ]
          },
          "metadata": {
            "tags": []
          },
          "execution_count": 4
        }
      ]
    },
    {
      "cell_type": "markdown",
      "metadata": {
        "id": "PdHqrV3sWQw7"
      },
      "source": [
        "Data set tem 3312 registros e 6 colunas. As colunas tem os seguintes tipos de dados:"
      ]
    },
    {
      "cell_type": "code",
      "metadata": {
        "colab": {
          "base_uri": "https://localhost:8080/"
        },
        "id": "DMY_aNDIWVRR",
        "outputId": "5f7cf609-cf9d-4564-e7aa-ae72bea1a4a4"
      },
      "source": [
        "df.dtypes"
      ],
      "execution_count": 5,
      "outputs": [
        {
          "output_type": "execute_result",
          "data": {
            "text/plain": [
              "country       object\n",
              "continent     object\n",
              "year           int64\n",
              "lifeExp      float64\n",
              "pop            int64\n",
              "gdpPercap    float64\n",
              "dtype: object"
            ]
          },
          "metadata": {
            "tags": []
          },
          "execution_count": 5
        }
      ]
    },
    {
      "cell_type": "markdown",
      "metadata": {
        "id": "2yxWFMkyZnY4"
      },
      "source": [
        "#Análise preliminar"
      ]
    },
    {
      "cell_type": "markdown",
      "metadata": {
        "id": "gNxNZgJWhIQU"
      },
      "source": [
        "##Valores nulos e categóricos"
      ]
    },
    {
      "cell_type": "markdown",
      "metadata": {
        "id": "1lJVYNWXhRkw"
      },
      "source": [
        "Quais colunas tem valores nulos?"
      ]
    },
    {
      "cell_type": "code",
      "metadata": {
        "colab": {
          "base_uri": "https://localhost:8080/"
        },
        "id": "2knREzQvzqfp",
        "outputId": "8ada9131-fb2a-4d34-dc7a-6fa304f291d4"
      },
      "source": [
        "df.isna().any()"
      ],
      "execution_count": 25,
      "outputs": [
        {
          "output_type": "execute_result",
          "data": {
            "text/plain": [
              "country      False\n",
              "continent     True\n",
              "year         False\n",
              "lifeExp      False\n",
              "pop          False\n",
              "gdpPercap    False\n",
              "dtype: bool"
            ]
          },
          "metadata": {
            "tags": []
          },
          "execution_count": 25
        }
      ]
    },
    {
      "cell_type": "code",
      "metadata": {
        "colab": {
          "base_uri": "https://localhost:8080/"
        },
        "id": "aIb2krZuhQ4z",
        "outputId": "b6efde9b-4a79-4460-f1ee-3cf4a8fbfb34"
      },
      "source": [
        "df.isna().sum()"
      ],
      "execution_count": 52,
      "outputs": [
        {
          "output_type": "execute_result",
          "data": {
            "text/plain": [
              "country        0\n",
              "continent    188\n",
              "year           0\n",
              "lifeExp        0\n",
              "pop            0\n",
              "gdpPercap      0\n",
              "dtype: int64"
            ]
          },
          "metadata": {
            "tags": []
          },
          "execution_count": 52
        }
      ]
    },
    {
      "cell_type": "code",
      "metadata": {
        "colab": {
          "base_uri": "https://localhost:8080/"
        },
        "id": "IrzdUunL0RJL",
        "outputId": "40a3b48d-d6b3-4824-fc14-fceafdfbbefb"
      },
      "source": [
        "df[df.continent.isna()].country.value_counts()"
      ],
      "execution_count": 44,
      "outputs": [
        {
          "output_type": "execute_result",
          "data": {
            "text/plain": [
              "Hong Kong, China         12\n",
              "Reunion                  12\n",
              "Sao Tome and Principe    12\n",
              "Haiti                    12\n",
              "Belize                   11\n",
              "Barbados                 10\n",
              "Bahamas                  10\n",
              "Papua New Guinea         10\n",
              "French Polynesia          9\n",
              "New Caledonia             9\n",
              "Georgia                   9\n",
              "Micronesia, Fed. Sts.     8\n",
              "Grenada                   8\n",
              "Aruba                     8\n",
              "Netherlands Antilles      8\n",
              "Maldives                  8\n",
              "Vanuatu                   7\n",
              "Samoa                     7\n",
              "Tonga                     7\n",
              "Armenia                   4\n",
              "Uzbekistan                4\n",
              "Guadeloupe                1\n",
              "Martinique                1\n",
              "French Guiana             1\n",
              "Name: country, dtype: int64"
            ]
          },
          "metadata": {
            "tags": []
          },
          "execution_count": 44
        }
      ]
    },
    {
      "cell_type": "markdown",
      "metadata": {
        "id": "hqLlFNKxhZuu"
      },
      "source": [
        "Quais são os possíveis valores de continente e países?"
      ]
    },
    {
      "cell_type": "code",
      "metadata": {
        "colab": {
          "base_uri": "https://localhost:8080/"
        },
        "id": "F25v6PduhLYG",
        "outputId": "51a98381-1e38-4596-e27d-9f175733686e"
      },
      "source": [
        "df.continent.value_counts()"
      ],
      "execution_count": 28,
      "outputs": [
        {
          "output_type": "execute_result",
          "data": {
            "text/plain": [
              "Europe      1302\n",
              "Africa       613\n",
              "Asia         557\n",
              "Americas     343\n",
              "FSU          122\n",
              "Oceania       74\n",
              "Name: continent, dtype: int64"
            ]
          },
          "metadata": {
            "tags": []
          },
          "execution_count": 28
        }
      ]
    },
    {
      "cell_type": "code",
      "metadata": {
        "colab": {
          "base_uri": "https://localhost:8080/"
        },
        "id": "3xcD-nidi42j",
        "outputId": "187fcbfb-58a5-41ff-f947-cdc907dd64f5"
      },
      "source": [
        "df.country.value_counts()"
      ],
      "execution_count": 19,
      "outputs": [
        {
          "output_type": "execute_result",
          "data": {
            "text/plain": [
              "Slovak Republic    58\n",
              "Switzerland        58\n",
              "Norway             58\n",
              "Japan              58\n",
              "Finland            58\n",
              "                   ..\n",
              "Kazakhstan          4\n",
              "Uzbekistan          4\n",
              "Martinique          1\n",
              "French Guiana       1\n",
              "Guadeloupe          1\n",
              "Name: country, Length: 187, dtype: int64"
            ]
          },
          "metadata": {
            "tags": []
          },
          "execution_count": 19
        }
      ]
    },
    {
      "cell_type": "markdown",
      "metadata": {
        "id": "hAvDmCqyE7a1"
      },
      "source": [
        "##Arrumar os dados mais relevantes"
      ]
    },
    {
      "cell_type": "code",
      "metadata": {
        "id": "NW3rzV3L1XVR"
      },
      "source": [
        "df.loc[df.country == 'Canada','continent'] = 'Americas'\n",
        "df.loc[df.country == 'Australia','continent'] = 'Oceania'\n",
        "df.loc[df.country == 'Hong Kong, China','continent'] = 'Asia'\n",
        "df.loc[df.country == 'Sao Tome and Principe','continent'] = 'Africa'\n",
        "df.loc[df.country == 'Reunion','continent'] = 'Africa'\n",
        "df.loc[df.country == 'Haiti','continent'] = 'Americas'\n",
        "df.loc[df.country == 'Belize','continent'] = 'Americas'\n",
        "df.loc[df.country == 'Barbados','continent'] = 'Americas'\n",
        "df.loc[df.country == 'Bahamas','continent'] = 'Americas'\n",
        "df.loc[df.country == 'Papua New Guinea','continent'] = 'Oceania'\n",
        "\n",
        "# poderia acertar os outros países que são nulos tbm..."
      ],
      "execution_count": 69,
      "outputs": []
    },
    {
      "cell_type": "markdown",
      "metadata": {
        "id": "AbyGnvzDWlxM"
      },
      "source": [
        "##Sumarização das colunas que são numéricas (describe)"
      ]
    },
    {
      "cell_type": "code",
      "metadata": {
        "colab": {
          "base_uri": "https://localhost:8080/",
          "height": 296
        },
        "id": "JN-LMlrXXFZN",
        "outputId": "6b944cff-4865-4ebc-b0d9-69184808df9b"
      },
      "source": [
        "df.describe()"
      ],
      "execution_count": 77,
      "outputs": [
        {
          "output_type": "execute_result",
          "data": {
            "text/html": [
              "<div>\n",
              "<style scoped>\n",
              "    .dataframe tbody tr th:only-of-type {\n",
              "        vertical-align: middle;\n",
              "    }\n",
              "\n",
              "    .dataframe tbody tr th {\n",
              "        vertical-align: top;\n",
              "    }\n",
              "\n",
              "    .dataframe thead th {\n",
              "        text-align: right;\n",
              "    }\n",
              "</style>\n",
              "<table border=\"1\" class=\"dataframe\">\n",
              "  <thead>\n",
              "    <tr style=\"text-align: right;\">\n",
              "      <th></th>\n",
              "      <th>year</th>\n",
              "      <th>lifeExp</th>\n",
              "      <th>pop</th>\n",
              "      <th>gdpPercap</th>\n",
              "    </tr>\n",
              "  </thead>\n",
              "  <tbody>\n",
              "    <tr>\n",
              "      <th>count</th>\n",
              "      <td>3312.00</td>\n",
              "      <td>3312.00</td>\n",
              "      <td>3312.00</td>\n",
              "      <td>3312.00</td>\n",
              "    </tr>\n",
              "    <tr>\n",
              "      <th>mean</th>\n",
              "      <td>1980.30</td>\n",
              "      <td>65.25</td>\n",
              "      <td>31614890.82</td>\n",
              "      <td>11317.12</td>\n",
              "    </tr>\n",
              "    <tr>\n",
              "      <th>std</th>\n",
              "      <td>16.93</td>\n",
              "      <td>11.77</td>\n",
              "      <td>104119342.89</td>\n",
              "      <td>11369.14</td>\n",
              "    </tr>\n",
              "    <tr>\n",
              "      <th>min</th>\n",
              "      <td>1950.00</td>\n",
              "      <td>23.60</td>\n",
              "      <td>59412.00</td>\n",
              "      <td>241.17</td>\n",
              "    </tr>\n",
              "    <tr>\n",
              "      <th>25%</th>\n",
              "      <td>1967.00</td>\n",
              "      <td>58.34</td>\n",
              "      <td>2678572.00</td>\n",
              "      <td>2514.63</td>\n",
              "    </tr>\n",
              "    <tr>\n",
              "      <th>50%</th>\n",
              "      <td>1982.00</td>\n",
              "      <td>69.61</td>\n",
              "      <td>7557218.50</td>\n",
              "      <td>7838.51</td>\n",
              "    </tr>\n",
              "    <tr>\n",
              "      <th>75%</th>\n",
              "      <td>1996.00</td>\n",
              "      <td>73.66</td>\n",
              "      <td>19585221.75</td>\n",
              "      <td>17357.88</td>\n",
              "    </tr>\n",
              "    <tr>\n",
              "      <th>max</th>\n",
              "      <td>2007.00</td>\n",
              "      <td>82.67</td>\n",
              "      <td>1318683096.00</td>\n",
              "      <td>113523.13</td>\n",
              "    </tr>\n",
              "  </tbody>\n",
              "</table>\n",
              "</div>"
            ],
            "text/plain": [
              "         year  lifeExp           pop  gdpPercap\n",
              "count 3312.00  3312.00       3312.00    3312.00\n",
              "mean  1980.30    65.25   31614890.82   11317.12\n",
              "std     16.93    11.77  104119342.89   11369.14\n",
              "min   1950.00    23.60      59412.00     241.17\n",
              "25%   1967.00    58.34    2678572.00    2514.63\n",
              "50%   1982.00    69.61    7557218.50    7838.51\n",
              "75%   1996.00    73.66   19585221.75   17357.88\n",
              "max   2007.00    82.67 1318683096.00  113523.13"
            ]
          },
          "metadata": {
            "tags": []
          },
          "execution_count": 77
        }
      ]
    },
    {
      "cell_type": "markdown",
      "metadata": {
        "id": "RLxBBr2aW_Y1"
      },
      "source": [
        "Primeiras observações:\n",
        "- Média da expectativa de vida: 65,24 anos e mediana 69,61. Mostra que existem muitos valores muito baixos\n",
        "- População tem desvio padrão maior que a média, ou seja, valores estão muito dispersos. \n",
        "- PIB per capta também tem grande dispersão.\n",
        "- Média e mediana do PIB per capta muito diferente. Devem haver muitos dados com valores muito altos. "
      ]
    },
    {
      "cell_type": "markdown",
      "metadata": {
        "id": "dDM9A8OaZWeJ"
      },
      "source": [
        "Perguntas diretas que saem desta primeira análise:\n",
        "- Qual registro (país e ano) tem:\n",
        "    - a menor expectativa de vida?\n",
        "    - o maior e menor PIB per capta\n",
        "    - a menor população\n",
        "- Muitos registros com alta população?\n",
        "- Existe alguma correlação entre países pequenos (pouca população) e expectativa de vida?\n",
        "- Qual a correlação entre PIB per capta e expectativa de vida?"
      ]
    },
    {
      "cell_type": "markdown",
      "metadata": {
        "id": "imLfRqofiPiQ"
      },
      "source": [
        "#Resultados das perguntas iniciais\n"
      ]
    },
    {
      "cell_type": "markdown",
      "metadata": {
        "id": "FuOQ5yCqPk43"
      },
      "source": [
        "#Análise da expectativa de vida"
      ]
    },
    {
      "cell_type": "markdown",
      "metadata": {
        "id": "yPp6180WiRDn"
      },
      "source": [
        "## Extremos da expectativa de vida"
      ]
    },
    {
      "cell_type": "code",
      "metadata": {
        "colab": {
          "base_uri": "https://localhost:8080/",
          "height": 80
        },
        "id": "BMEH-lQAYDSI",
        "outputId": "8425d02b-0e64-4636-a2f3-28c490e75725"
      },
      "source": [
        "df[df.lifeExp == min(df.lifeExp)]"
      ],
      "execution_count": 10,
      "outputs": [
        {
          "output_type": "execute_result",
          "data": {
            "text/html": [
              "<div>\n",
              "<style scoped>\n",
              "    .dataframe tbody tr th:only-of-type {\n",
              "        vertical-align: middle;\n",
              "    }\n",
              "\n",
              "    .dataframe tbody tr th {\n",
              "        vertical-align: top;\n",
              "    }\n",
              "\n",
              "    .dataframe thead th {\n",
              "        text-align: right;\n",
              "    }\n",
              "</style>\n",
              "<table border=\"1\" class=\"dataframe\">\n",
              "  <thead>\n",
              "    <tr style=\"text-align: right;\">\n",
              "      <th></th>\n",
              "      <th>country</th>\n",
              "      <th>continent</th>\n",
              "      <th>year</th>\n",
              "      <th>lifeExp</th>\n",
              "      <th>pop</th>\n",
              "      <th>gdpPercap</th>\n",
              "    </tr>\n",
              "  </thead>\n",
              "  <tbody>\n",
              "    <tr>\n",
              "      <th>2519</th>\n",
              "      <td>Rwanda</td>\n",
              "      <td>Africa</td>\n",
              "      <td>1992</td>\n",
              "      <td>23.599</td>\n",
              "      <td>7290203</td>\n",
              "      <td>737.068595</td>\n",
              "    </tr>\n",
              "  </tbody>\n",
              "</table>\n",
              "</div>"
            ],
            "text/plain": [
              "     country continent  year  lifeExp      pop   gdpPercap\n",
              "2519  Rwanda    Africa  1992   23.599  7290203  737.068595"
            ]
          },
          "metadata": {
            "tags": []
          },
          "execution_count": 10
        }
      ]
    },
    {
      "cell_type": "code",
      "metadata": {
        "colab": {
          "base_uri": "https://localhost:8080/",
          "height": 80
        },
        "id": "Bu7nY2wQgtBU",
        "outputId": "1feb8d7b-eff6-4a35-ab82-6d07b6a14bf1"
      },
      "source": [
        "df[df.lifeExp == max(df.lifeExp)]"
      ],
      "execution_count": 11,
      "outputs": [
        {
          "output_type": "execute_result",
          "data": {
            "text/html": [
              "<div>\n",
              "<style scoped>\n",
              "    .dataframe tbody tr th:only-of-type {\n",
              "        vertical-align: middle;\n",
              "    }\n",
              "\n",
              "    .dataframe tbody tr th {\n",
              "        vertical-align: top;\n",
              "    }\n",
              "\n",
              "    .dataframe thead th {\n",
              "        text-align: right;\n",
              "    }\n",
              "</style>\n",
              "<table border=\"1\" class=\"dataframe\">\n",
              "  <thead>\n",
              "    <tr style=\"text-align: right;\">\n",
              "      <th></th>\n",
              "      <th>country</th>\n",
              "      <th>continent</th>\n",
              "      <th>year</th>\n",
              "      <th>lifeExp</th>\n",
              "      <th>pop</th>\n",
              "      <th>gdpPercap</th>\n",
              "    </tr>\n",
              "  </thead>\n",
              "  <tbody>\n",
              "    <tr>\n",
              "      <th>1597</th>\n",
              "      <td>Japan</td>\n",
              "      <td>Asia</td>\n",
              "      <td>2006</td>\n",
              "      <td>82.67</td>\n",
              "      <td>127463611</td>\n",
              "      <td>31001.71797</td>\n",
              "    </tr>\n",
              "  </tbody>\n",
              "</table>\n",
              "</div>"
            ],
            "text/plain": [
              "     country continent  year  lifeExp        pop    gdpPercap\n",
              "1597   Japan      Asia  2006    82.67  127463611  31001.71797"
            ]
          },
          "metadata": {
            "tags": []
          },
          "execution_count": 11
        }
      ]
    },
    {
      "cell_type": "markdown",
      "metadata": {
        "id": "GAo-F07cHe1r"
      },
      "source": [
        "Pergunta: será que Ruanda é o que tem as mais baixas expectativas de vida?\n",
        "E as maiores expectativas de vida são do Japão?"
      ]
    },
    {
      "cell_type": "code",
      "metadata": {
        "colab": {
          "base_uri": "https://localhost:8080/"
        },
        "id": "VLcdQvpdG3-I",
        "outputId": "afba02d6-9b42-4103-aced-1e0ae911ac63"
      },
      "source": [
        "df.sort_values(by='lifeExp').head(20)['country'].value_counts()"
      ],
      "execution_count": 70,
      "outputs": [
        {
          "output_type": "execute_result",
          "data": {
            "text/plain": [
              "Afghanistan      3\n",
              "Sierra Leone     3\n",
              "Guinea-Bissau    2\n",
              "Angola           2\n",
              "Gambia           2\n",
              "Rwanda           1\n",
              "Yemen, Rep.      1\n",
              "Guinea           1\n",
              "Somalia          1\n",
              "Mozambique       1\n",
              "China            1\n",
              "Burkina Faso     1\n",
              "Cambodia         1\n",
              "Name: country, dtype: int64"
            ]
          },
          "metadata": {
            "tags": []
          },
          "execution_count": 70
        }
      ]
    },
    {
      "cell_type": "markdown",
      "metadata": {
        "id": "TL-PQuXNMNMK"
      },
      "source": [
        "Apesar de Ruanda em 1952 ter tido a menor expectativa de vida, as 20 menores estão bem ditribuídas"
      ]
    },
    {
      "cell_type": "code",
      "metadata": {
        "colab": {
          "base_uri": "https://localhost:8080/"
        },
        "id": "HP1A0y6sIxtr",
        "outputId": "15133b81-27db-4596-dd23-d8f366b5e107"
      },
      "source": [
        "df.sort_values(by='lifeExp').tail(20)['country'].value_counts()"
      ],
      "execution_count": 71,
      "outputs": [
        {
          "output_type": "execute_result",
          "data": {
            "text/plain": [
              "Japan               8\n",
              "Switzerland         4\n",
              "Iceland             3\n",
              "Australia           2\n",
              "Hong Kong, China    2\n",
              "Italy               1\n",
              "Name: country, dtype: int64"
            ]
          },
          "metadata": {
            "tags": []
          },
          "execution_count": 71
        }
      ]
    },
    {
      "cell_type": "markdown",
      "metadata": {
        "id": "hgzSKkmEgDXc"
      },
      "source": [
        "Já o Japão aparece muitas vezes entre os 20 maiores"
      ]
    },
    {
      "cell_type": "markdown",
      "metadata": {
        "id": "reAhB-4mJW5p"
      },
      "source": [
        "e se for contar por continente?\n"
      ]
    },
    {
      "cell_type": "code",
      "metadata": {
        "colab": {
          "base_uri": "https://localhost:8080/"
        },
        "id": "Tf4kYBr8JbHM",
        "outputId": "df471445-811c-4d2f-e7f3-63e7e2d27e9f"
      },
      "source": [
        "df.sort_values(by='lifeExp').head(20)['continent'].value_counts()"
      ],
      "execution_count": 73,
      "outputs": [
        {
          "output_type": "execute_result",
          "data": {
            "text/plain": [
              "Africa    14\n",
              "Asia       6\n",
              "Name: continent, dtype: int64"
            ]
          },
          "metadata": {
            "tags": []
          },
          "execution_count": 73
        }
      ]
    },
    {
      "cell_type": "code",
      "metadata": {
        "colab": {
          "base_uri": "https://localhost:8080/"
        },
        "id": "pT4KcxyULpCH",
        "outputId": "976315d1-cbda-45ed-8011-26fa4db6efc8"
      },
      "source": [
        "df.sort_values(by='lifeExp').tail(20)['continent'].value_counts()"
      ],
      "execution_count": 74,
      "outputs": [
        {
          "output_type": "execute_result",
          "data": {
            "text/plain": [
              "Asia       10\n",
              "Europe      8\n",
              "Oceania     2\n",
              "Name: continent, dtype: int64"
            ]
          },
          "metadata": {
            "tags": []
          },
          "execution_count": 74
        }
      ]
    },
    {
      "cell_type": "markdown",
      "metadata": {
        "id": "ntxoiyzmNHlQ"
      },
      "source": [
        "Asia e Europa estão equilibradas"
      ]
    },
    {
      "cell_type": "markdown",
      "metadata": {
        "id": "G2Oqhr6CNFGa"
      },
      "source": [
        "## Quais países tiveram decréscimos na expectativa de vida com o passar dos anos?"
      ]
    },
    {
      "cell_type": "code",
      "metadata": {
        "colab": {
          "base_uri": "https://localhost:8080/"
        },
        "id": "T5MpeghAM0pI",
        "outputId": "c19eaf23-dee8-4f82-889c-20302a3e1f53"
      },
      "source": [
        "df_country_year = df.sort_values(by=['country', 'year'])\n",
        "df_country_year['diff'] = df_country_year.groupby('country')['lifeExp'].diff()\n",
        "df_country_year[df_country_year['diff']<0]['country'].value_counts()"
      ],
      "execution_count": 106,
      "outputs": [
        {
          "output_type": "execute_result",
          "data": {
            "text/plain": [
              "Iceland       23\n",
              "Latvia        22\n",
              "Bulgaria      22\n",
              "Hungary       20\n",
              "Portugal      17\n",
              "              ..\n",
              "Uzbekistan     1\n",
              "Somalia        1\n",
              "Eritrea        1\n",
              "Ghana          1\n",
              "Togo           1\n",
              "Name: country, Length: 89, dtype: int64"
            ]
          },
          "metadata": {
            "tags": []
          },
          "execution_count": 106
        }
      ]
    },
    {
      "cell_type": "markdown",
      "metadata": {
        "id": "1LpF-_gkeDJx"
      },
      "source": [
        "Vários países tiveram pelo menos uma vez um decréscimo de expectativa de vida. Por exemplo Portugal e Iceland"
      ]
    },
    {
      "cell_type": "code",
      "metadata": {
        "colab": {
          "base_uri": "https://localhost:8080/",
          "height": 1000
        },
        "collapsed": true,
        "id": "7hMTNiZNfBML",
        "outputId": "5a1833d7-5a49-48e2-eaf9-692aa70f09b3"
      },
      "source": [
        "df_country_year[df_country_year['country']=='Iceland']"
      ],
      "execution_count": 111,
      "outputs": [
        {
          "output_type": "execute_result",
          "data": {
            "text/html": [
              "<div>\n",
              "<style scoped>\n",
              "    .dataframe tbody tr th:only-of-type {\n",
              "        vertical-align: middle;\n",
              "    }\n",
              "\n",
              "    .dataframe tbody tr th {\n",
              "        vertical-align: top;\n",
              "    }\n",
              "\n",
              "    .dataframe thead th {\n",
              "        text-align: right;\n",
              "    }\n",
              "</style>\n",
              "<table border=\"1\" class=\"dataframe\">\n",
              "  <thead>\n",
              "    <tr style=\"text-align: right;\">\n",
              "      <th></th>\n",
              "      <th>country</th>\n",
              "      <th>continent</th>\n",
              "      <th>year</th>\n",
              "      <th>lifeExp</th>\n",
              "      <th>pop</th>\n",
              "      <th>gdpPercap</th>\n",
              "      <th>diff</th>\n",
              "    </tr>\n",
              "  </thead>\n",
              "  <tbody>\n",
              "    <tr>\n",
              "      <th>1342</th>\n",
              "      <td>Iceland</td>\n",
              "      <td>Europe</td>\n",
              "      <td>1950</td>\n",
              "      <td>71.01</td>\n",
              "      <td>142938</td>\n",
              "      <td>7750.29</td>\n",
              "      <td>nan</td>\n",
              "    </tr>\n",
              "    <tr>\n",
              "      <th>1343</th>\n",
              "      <td>Iceland</td>\n",
              "      <td>Europe</td>\n",
              "      <td>1951</td>\n",
              "      <td>71.05</td>\n",
              "      <td>145604</td>\n",
              "      <td>7468.81</td>\n",
              "      <td>0.04</td>\n",
              "    </tr>\n",
              "    <tr>\n",
              "      <th>1344</th>\n",
              "      <td>Iceland</td>\n",
              "      <td>Europe</td>\n",
              "      <td>1952</td>\n",
              "      <td>72.49</td>\n",
              "      <td>147962</td>\n",
              "      <td>7267.69</td>\n",
              "      <td>1.44</td>\n",
              "    </tr>\n",
              "    <tr>\n",
              "      <th>1345</th>\n",
              "      <td>Iceland</td>\n",
              "      <td>Europe</td>\n",
              "      <td>1953</td>\n",
              "      <td>72.31</td>\n",
              "      <td>151036</td>\n",
              "      <td>8211.29</td>\n",
              "      <td>-0.18</td>\n",
              "    </tr>\n",
              "    <tr>\n",
              "      <th>1346</th>\n",
              "      <td>Iceland</td>\n",
              "      <td>Europe</td>\n",
              "      <td>1954</td>\n",
              "      <td>73.36</td>\n",
              "      <td>154563</td>\n",
              "      <td>8800.72</td>\n",
              "      <td>1.05</td>\n",
              "    </tr>\n",
              "    <tr>\n",
              "      <th>1347</th>\n",
              "      <td>Iceland</td>\n",
              "      <td>Europe</td>\n",
              "      <td>1955</td>\n",
              "      <td>73.30</td>\n",
              "      <td>158044</td>\n",
              "      <td>9458.67</td>\n",
              "      <td>-0.06</td>\n",
              "    </tr>\n",
              "    <tr>\n",
              "      <th>1348</th>\n",
              "      <td>Iceland</td>\n",
              "      <td>Europe</td>\n",
              "      <td>1956</td>\n",
              "      <td>72.98</td>\n",
              "      <td>161358</td>\n",
              "      <td>9489.02</td>\n",
              "      <td>-0.32</td>\n",
              "    </tr>\n",
              "    <tr>\n",
              "      <th>1349</th>\n",
              "      <td>Iceland</td>\n",
              "      <td>Europe</td>\n",
              "      <td>1957</td>\n",
              "      <td>73.47</td>\n",
              "      <td>165110</td>\n",
              "      <td>9244.00</td>\n",
              "      <td>0.49</td>\n",
              "    </tr>\n",
              "    <tr>\n",
              "      <th>1350</th>\n",
              "      <td>Iceland</td>\n",
              "      <td>Europe</td>\n",
              "      <td>1958</td>\n",
              "      <td>73.43</td>\n",
              "      <td>168771</td>\n",
              "      <td>9789.87</td>\n",
              "      <td>-0.04</td>\n",
              "    </tr>\n",
              "    <tr>\n",
              "      <th>1351</th>\n",
              "      <td>Iceland</td>\n",
              "      <td>Europe</td>\n",
              "      <td>1959</td>\n",
              "      <td>72.66</td>\n",
              "      <td>172314</td>\n",
              "      <td>9768.93</td>\n",
              "      <td>-0.77</td>\n",
              "    </tr>\n",
              "    <tr>\n",
              "      <th>1352</th>\n",
              "      <td>Iceland</td>\n",
              "      <td>Europe</td>\n",
              "      <td>1960</td>\n",
              "      <td>74.09</td>\n",
              "      <td>175860</td>\n",
              "      <td>9890.07</td>\n",
              "      <td>1.43</td>\n",
              "    </tr>\n",
              "    <tr>\n",
              "      <th>1353</th>\n",
              "      <td>Iceland</td>\n",
              "      <td>Europe</td>\n",
              "      <td>1961</td>\n",
              "      <td>73.47</td>\n",
              "      <td>178905</td>\n",
              "      <td>9724.49</td>\n",
              "      <td>-0.62</td>\n",
              "    </tr>\n",
              "    <tr>\n",
              "      <th>1354</th>\n",
              "      <td>Iceland</td>\n",
              "      <td>Europe</td>\n",
              "      <td>1962</td>\n",
              "      <td>73.68</td>\n",
              "      <td>182053</td>\n",
              "      <td>10350.16</td>\n",
              "      <td>0.21</td>\n",
              "    </tr>\n",
              "    <tr>\n",
              "      <th>1355</th>\n",
              "      <td>Iceland</td>\n",
              "      <td>Europe</td>\n",
              "      <td>1963</td>\n",
              "      <td>72.98</td>\n",
              "      <td>185481</td>\n",
              "      <td>11221.63</td>\n",
              "      <td>-0.70</td>\n",
              "    </tr>\n",
              "    <tr>\n",
              "      <th>1356</th>\n",
              "      <td>Iceland</td>\n",
              "      <td>Europe</td>\n",
              "      <td>1964</td>\n",
              "      <td>73.57</td>\n",
              "      <td>188847</td>\n",
              "      <td>12133.87</td>\n",
              "      <td>0.59</td>\n",
              "    </tr>\n",
              "    <tr>\n",
              "      <th>1357</th>\n",
              "      <td>Iceland</td>\n",
              "      <td>Europe</td>\n",
              "      <td>1965</td>\n",
              "      <td>73.84</td>\n",
              "      <td>192288</td>\n",
              "      <td>12794.88</td>\n",
              "      <td>0.27</td>\n",
              "    </tr>\n",
              "    <tr>\n",
              "      <th>1358</th>\n",
              "      <td>Iceland</td>\n",
              "      <td>Europe</td>\n",
              "      <td>1966</td>\n",
              "      <td>73.23</td>\n",
              "      <td>195610</td>\n",
              "      <td>13701.27</td>\n",
              "      <td>-0.61</td>\n",
              "    </tr>\n",
              "    <tr>\n",
              "      <th>1359</th>\n",
              "      <td>Iceland</td>\n",
              "      <td>Europe</td>\n",
              "      <td>1967</td>\n",
              "      <td>73.73</td>\n",
              "      <td>198676</td>\n",
              "      <td>13319.90</td>\n",
              "      <td>0.50</td>\n",
              "    </tr>\n",
              "    <tr>\n",
              "      <th>1360</th>\n",
              "      <td>Iceland</td>\n",
              "      <td>Europe</td>\n",
              "      <td>1968</td>\n",
              "      <td>73.94</td>\n",
              "      <td>201245</td>\n",
              "      <td>12441.44</td>\n",
              "      <td>0.21</td>\n",
              "    </tr>\n",
              "    <tr>\n",
              "      <th>1361</th>\n",
              "      <td>Iceland</td>\n",
              "      <td>Europe</td>\n",
              "      <td>1969</td>\n",
              "      <td>73.71</td>\n",
              "      <td>202920</td>\n",
              "      <td>12659.11</td>\n",
              "      <td>-0.23</td>\n",
              "    </tr>\n",
              "    <tr>\n",
              "      <th>1362</th>\n",
              "      <td>Iceland</td>\n",
              "      <td>Europe</td>\n",
              "      <td>1970</td>\n",
              "      <td>73.81</td>\n",
              "      <td>204104</td>\n",
              "      <td>13532.84</td>\n",
              "      <td>0.10</td>\n",
              "    </tr>\n",
              "    <tr>\n",
              "      <th>1363</th>\n",
              "      <td>Iceland</td>\n",
              "      <td>Europe</td>\n",
              "      <td>1971</td>\n",
              "      <td>73.55</td>\n",
              "      <td>206092</td>\n",
              "      <td>15128.83</td>\n",
              "      <td>-0.26</td>\n",
              "    </tr>\n",
              "    <tr>\n",
              "      <th>1364</th>\n",
              "      <td>Iceland</td>\n",
              "      <td>Europe</td>\n",
              "      <td>1972</td>\n",
              "      <td>74.46</td>\n",
              "      <td>209275</td>\n",
              "      <td>15798.06</td>\n",
              "      <td>0.91</td>\n",
              "    </tr>\n",
              "    <tr>\n",
              "      <th>1365</th>\n",
              "      <td>Iceland</td>\n",
              "      <td>Europe</td>\n",
              "      <td>1973</td>\n",
              "      <td>74.31</td>\n",
              "      <td>212364</td>\n",
              "      <td>16670.02</td>\n",
              "      <td>-0.15</td>\n",
              "    </tr>\n",
              "    <tr>\n",
              "      <th>1366</th>\n",
              "      <td>Iceland</td>\n",
              "      <td>Europe</td>\n",
              "      <td>1974</td>\n",
              "      <td>74.37</td>\n",
              "      <td>215324</td>\n",
              "      <td>17375.59</td>\n",
              "      <td>0.06</td>\n",
              "    </tr>\n",
              "    <tr>\n",
              "      <th>1367</th>\n",
              "      <td>Iceland</td>\n",
              "      <td>Europe</td>\n",
              "      <td>1975</td>\n",
              "      <td>75.35</td>\n",
              "      <td>218031</td>\n",
              "      <td>17297.44</td>\n",
              "      <td>0.98</td>\n",
              "    </tr>\n",
              "    <tr>\n",
              "      <th>1368</th>\n",
              "      <td>Iceland</td>\n",
              "      <td>Europe</td>\n",
              "      <td>1976</td>\n",
              "      <td>76.71</td>\n",
              "      <td>220133</td>\n",
              "      <td>18179.25</td>\n",
              "      <td>1.36</td>\n",
              "    </tr>\n",
              "    <tr>\n",
              "      <th>1369</th>\n",
              "      <td>Iceland</td>\n",
              "      <td>Europe</td>\n",
              "      <td>1977</td>\n",
              "      <td>76.11</td>\n",
              "      <td>221823</td>\n",
              "      <td>19654.96</td>\n",
              "      <td>-0.60</td>\n",
              "    </tr>\n",
              "    <tr>\n",
              "      <th>1370</th>\n",
              "      <td>Iceland</td>\n",
              "      <td>Europe</td>\n",
              "      <td>1978</td>\n",
              "      <td>76.42</td>\n",
              "      <td>223587</td>\n",
              "      <td>20649.68</td>\n",
              "      <td>0.31</td>\n",
              "    </tr>\n",
              "    <tr>\n",
              "      <th>1371</th>\n",
              "      <td>Iceland</td>\n",
              "      <td>Europe</td>\n",
              "      <td>1979</td>\n",
              "      <td>76.63</td>\n",
              "      <td>225749</td>\n",
              "      <td>21453.78</td>\n",
              "      <td>0.21</td>\n",
              "    </tr>\n",
              "    <tr>\n",
              "      <th>1372</th>\n",
              "      <td>Iceland</td>\n",
              "      <td>Europe</td>\n",
              "      <td>1980</td>\n",
              "      <td>76.66</td>\n",
              "      <td>228161</td>\n",
              "      <td>22434.86</td>\n",
              "      <td>0.03</td>\n",
              "    </tr>\n",
              "    <tr>\n",
              "      <th>1373</th>\n",
              "      <td>Iceland</td>\n",
              "      <td>Europe</td>\n",
              "      <td>1981</td>\n",
              "      <td>76.35</td>\n",
              "      <td>230803</td>\n",
              "      <td>23121.41</td>\n",
              "      <td>-0.31</td>\n",
              "    </tr>\n",
              "    <tr>\n",
              "      <th>1374</th>\n",
              "      <td>Iceland</td>\n",
              "      <td>Europe</td>\n",
              "      <td>1982</td>\n",
              "      <td>76.99</td>\n",
              "      <td>233997</td>\n",
              "      <td>23269.61</td>\n",
              "      <td>0.64</td>\n",
              "    </tr>\n",
              "    <tr>\n",
              "      <th>1375</th>\n",
              "      <td>Iceland</td>\n",
              "      <td>Europe</td>\n",
              "      <td>1983</td>\n",
              "      <td>76.63</td>\n",
              "      <td>237041</td>\n",
              "      <td>22499.90</td>\n",
              "      <td>-0.36</td>\n",
              "    </tr>\n",
              "    <tr>\n",
              "      <th>1376</th>\n",
              "      <td>Iceland</td>\n",
              "      <td>Europe</td>\n",
              "      <td>1984</td>\n",
              "      <td>77.43</td>\n",
              "      <td>239498</td>\n",
              "      <td>23215.83</td>\n",
              "      <td>0.80</td>\n",
              "    </tr>\n",
              "    <tr>\n",
              "      <th>1377</th>\n",
              "      <td>Iceland</td>\n",
              "      <td>Europe</td>\n",
              "      <td>1985</td>\n",
              "      <td>77.56</td>\n",
              "      <td>241403</td>\n",
              "      <td>23821.71</td>\n",
              "      <td>0.13</td>\n",
              "    </tr>\n",
              "    <tr>\n",
              "      <th>1378</th>\n",
              "      <td>Iceland</td>\n",
              "      <td>Europe</td>\n",
              "      <td>1986</td>\n",
              "      <td>78.09</td>\n",
              "      <td>242999</td>\n",
              "      <td>25107.72</td>\n",
              "      <td>0.53</td>\n",
              "    </tr>\n",
              "    <tr>\n",
              "      <th>1379</th>\n",
              "      <td>Iceland</td>\n",
              "      <td>Europe</td>\n",
              "      <td>1987</td>\n",
              "      <td>77.23</td>\n",
              "      <td>244676</td>\n",
              "      <td>26923.21</td>\n",
              "      <td>-0.86</td>\n",
              "    </tr>\n",
              "    <tr>\n",
              "      <th>1380</th>\n",
              "      <td>Iceland</td>\n",
              "      <td>Europe</td>\n",
              "      <td>1988</td>\n",
              "      <td>77.08</td>\n",
              "      <td>249885</td>\n",
              "      <td>26435.22</td>\n",
              "      <td>-0.15</td>\n",
              "    </tr>\n",
              "    <tr>\n",
              "      <th>1381</th>\n",
              "      <td>Iceland</td>\n",
              "      <td>Europe</td>\n",
              "      <td>1989</td>\n",
              "      <td>78.15</td>\n",
              "      <td>252746</td>\n",
              "      <td>26317.46</td>\n",
              "      <td>1.07</td>\n",
              "    </tr>\n",
              "    <tr>\n",
              "      <th>1382</th>\n",
              "      <td>Iceland</td>\n",
              "      <td>Europe</td>\n",
              "      <td>1990</td>\n",
              "      <td>77.98</td>\n",
              "      <td>254719</td>\n",
              "      <td>26372.88</td>\n",
              "      <td>-0.17</td>\n",
              "    </tr>\n",
              "    <tr>\n",
              "      <th>1383</th>\n",
              "      <td>Iceland</td>\n",
              "      <td>Europe</td>\n",
              "      <td>1991</td>\n",
              "      <td>77.94</td>\n",
              "      <td>256831</td>\n",
              "      <td>26332.62</td>\n",
              "      <td>-0.04</td>\n",
              "    </tr>\n",
              "    <tr>\n",
              "      <th>1384</th>\n",
              "      <td>Iceland</td>\n",
              "      <td>Europe</td>\n",
              "      <td>1992</td>\n",
              "      <td>78.77</td>\n",
              "      <td>259012</td>\n",
              "      <td>25144.39</td>\n",
              "      <td>0.83</td>\n",
              "    </tr>\n",
              "    <tr>\n",
              "      <th>1385</th>\n",
              "      <td>Iceland</td>\n",
              "      <td>Europe</td>\n",
              "      <td>1993</td>\n",
              "      <td>78.98</td>\n",
              "      <td>261270</td>\n",
              "      <td>25030.86</td>\n",
              "      <td>0.21</td>\n",
              "    </tr>\n",
              "    <tr>\n",
              "      <th>1386</th>\n",
              "      <td>Iceland</td>\n",
              "      <td>Europe</td>\n",
              "      <td>1994</td>\n",
              "      <td>79.24</td>\n",
              "      <td>266075</td>\n",
              "      <td>25941.54</td>\n",
              "      <td>0.26</td>\n",
              "    </tr>\n",
              "    <tr>\n",
              "      <th>1387</th>\n",
              "      <td>Iceland</td>\n",
              "      <td>Europe</td>\n",
              "      <td>1995</td>\n",
              "      <td>78.05</td>\n",
              "      <td>267527</td>\n",
              "      <td>25840.49</td>\n",
              "      <td>-1.19</td>\n",
              "    </tr>\n",
              "    <tr>\n",
              "      <th>1388</th>\n",
              "      <td>Iceland</td>\n",
              "      <td>Europe</td>\n",
              "      <td>1996</td>\n",
              "      <td>78.84</td>\n",
              "      <td>269000</td>\n",
              "      <td>27027.25</td>\n",
              "      <td>0.79</td>\n",
              "    </tr>\n",
              "    <tr>\n",
              "      <th>1389</th>\n",
              "      <td>Iceland</td>\n",
              "      <td>Europe</td>\n",
              "      <td>1997</td>\n",
              "      <td>78.95</td>\n",
              "      <td>271192</td>\n",
              "      <td>28061.10</td>\n",
              "      <td>0.11</td>\n",
              "    </tr>\n",
              "    <tr>\n",
              "      <th>1390</th>\n",
              "      <td>Iceland</td>\n",
              "      <td>Europe</td>\n",
              "      <td>1998</td>\n",
              "      <td>79.67</td>\n",
              "      <td>274000</td>\n",
              "      <td>29256.70</td>\n",
              "      <td>0.72</td>\n",
              "    </tr>\n",
              "    <tr>\n",
              "      <th>1391</th>\n",
              "      <td>Iceland</td>\n",
              "      <td>Europe</td>\n",
              "      <td>1999</td>\n",
              "      <td>79.46</td>\n",
              "      <td>277280</td>\n",
              "      <td>30042.94</td>\n",
              "      <td>-0.21</td>\n",
              "    </tr>\n",
              "    <tr>\n",
              "      <th>1392</th>\n",
              "      <td>Iceland</td>\n",
              "      <td>Europe</td>\n",
              "      <td>2000</td>\n",
              "      <td>79.72</td>\n",
              "      <td>281043</td>\n",
              "      <td>31092.03</td>\n",
              "      <td>0.26</td>\n",
              "    </tr>\n",
              "    <tr>\n",
              "      <th>1393</th>\n",
              "      <td>Iceland</td>\n",
              "      <td>Europe</td>\n",
              "      <td>2001</td>\n",
              "      <td>80.64</td>\n",
              "      <td>284812</td>\n",
              "      <td>31830.54</td>\n",
              "      <td>0.92</td>\n",
              "    </tr>\n",
              "    <tr>\n",
              "      <th>1394</th>\n",
              "      <td>Iceland</td>\n",
              "      <td>Europe</td>\n",
              "      <td>2002</td>\n",
              "      <td>80.50</td>\n",
              "      <td>288030</td>\n",
              "      <td>31163.20</td>\n",
              "      <td>-0.14</td>\n",
              "    </tr>\n",
              "    <tr>\n",
              "      <th>1395</th>\n",
              "      <td>Iceland</td>\n",
              "      <td>Europe</td>\n",
              "      <td>2003</td>\n",
              "      <td>81.06</td>\n",
              "      <td>291064</td>\n",
              "      <td>31937.01</td>\n",
              "      <td>0.56</td>\n",
              "    </tr>\n",
              "    <tr>\n",
              "      <th>1396</th>\n",
              "      <td>Iceland</td>\n",
              "      <td>Europe</td>\n",
              "      <td>2004</td>\n",
              "      <td>80.95</td>\n",
              "      <td>293966</td>\n",
              "      <td>34279.18</td>\n",
              "      <td>-0.11</td>\n",
              "    </tr>\n",
              "    <tr>\n",
              "      <th>1397</th>\n",
              "      <td>Iceland</td>\n",
              "      <td>Europe</td>\n",
              "      <td>2005</td>\n",
              "      <td>81.43</td>\n",
              "      <td>296737</td>\n",
              "      <td>35630.00</td>\n",
              "      <td>0.48</td>\n",
              "    </tr>\n",
              "    <tr>\n",
              "      <th>1398</th>\n",
              "      <td>Iceland</td>\n",
              "      <td>Europe</td>\n",
              "      <td>2006</td>\n",
              "      <td>81.12</td>\n",
              "      <td>299388</td>\n",
              "      <td>36233.27</td>\n",
              "      <td>-0.31</td>\n",
              "    </tr>\n",
              "    <tr>\n",
              "      <th>1399</th>\n",
              "      <td>Iceland</td>\n",
              "      <td>Europe</td>\n",
              "      <td>2007</td>\n",
              "      <td>81.76</td>\n",
              "      <td>301931</td>\n",
              "      <td>36180.79</td>\n",
              "      <td>0.64</td>\n",
              "    </tr>\n",
              "  </tbody>\n",
              "</table>\n",
              "</div>"
            ],
            "text/plain": [
              "      country continent  year  lifeExp     pop  gdpPercap  diff\n",
              "1342  Iceland    Europe  1950    71.01  142938    7750.29   nan\n",
              "1343  Iceland    Europe  1951    71.05  145604    7468.81  0.04\n",
              "1344  Iceland    Europe  1952    72.49  147962    7267.69  1.44\n",
              "1345  Iceland    Europe  1953    72.31  151036    8211.29 -0.18\n",
              "1346  Iceland    Europe  1954    73.36  154563    8800.72  1.05\n",
              "1347  Iceland    Europe  1955    73.30  158044    9458.67 -0.06\n",
              "1348  Iceland    Europe  1956    72.98  161358    9489.02 -0.32\n",
              "1349  Iceland    Europe  1957    73.47  165110    9244.00  0.49\n",
              "1350  Iceland    Europe  1958    73.43  168771    9789.87 -0.04\n",
              "1351  Iceland    Europe  1959    72.66  172314    9768.93 -0.77\n",
              "1352  Iceland    Europe  1960    74.09  175860    9890.07  1.43\n",
              "1353  Iceland    Europe  1961    73.47  178905    9724.49 -0.62\n",
              "1354  Iceland    Europe  1962    73.68  182053   10350.16  0.21\n",
              "1355  Iceland    Europe  1963    72.98  185481   11221.63 -0.70\n",
              "1356  Iceland    Europe  1964    73.57  188847   12133.87  0.59\n",
              "1357  Iceland    Europe  1965    73.84  192288   12794.88  0.27\n",
              "1358  Iceland    Europe  1966    73.23  195610   13701.27 -0.61\n",
              "1359  Iceland    Europe  1967    73.73  198676   13319.90  0.50\n",
              "1360  Iceland    Europe  1968    73.94  201245   12441.44  0.21\n",
              "1361  Iceland    Europe  1969    73.71  202920   12659.11 -0.23\n",
              "1362  Iceland    Europe  1970    73.81  204104   13532.84  0.10\n",
              "1363  Iceland    Europe  1971    73.55  206092   15128.83 -0.26\n",
              "1364  Iceland    Europe  1972    74.46  209275   15798.06  0.91\n",
              "1365  Iceland    Europe  1973    74.31  212364   16670.02 -0.15\n",
              "1366  Iceland    Europe  1974    74.37  215324   17375.59  0.06\n",
              "1367  Iceland    Europe  1975    75.35  218031   17297.44  0.98\n",
              "1368  Iceland    Europe  1976    76.71  220133   18179.25  1.36\n",
              "1369  Iceland    Europe  1977    76.11  221823   19654.96 -0.60\n",
              "1370  Iceland    Europe  1978    76.42  223587   20649.68  0.31\n",
              "1371  Iceland    Europe  1979    76.63  225749   21453.78  0.21\n",
              "1372  Iceland    Europe  1980    76.66  228161   22434.86  0.03\n",
              "1373  Iceland    Europe  1981    76.35  230803   23121.41 -0.31\n",
              "1374  Iceland    Europe  1982    76.99  233997   23269.61  0.64\n",
              "1375  Iceland    Europe  1983    76.63  237041   22499.90 -0.36\n",
              "1376  Iceland    Europe  1984    77.43  239498   23215.83  0.80\n",
              "1377  Iceland    Europe  1985    77.56  241403   23821.71  0.13\n",
              "1378  Iceland    Europe  1986    78.09  242999   25107.72  0.53\n",
              "1379  Iceland    Europe  1987    77.23  244676   26923.21 -0.86\n",
              "1380  Iceland    Europe  1988    77.08  249885   26435.22 -0.15\n",
              "1381  Iceland    Europe  1989    78.15  252746   26317.46  1.07\n",
              "1382  Iceland    Europe  1990    77.98  254719   26372.88 -0.17\n",
              "1383  Iceland    Europe  1991    77.94  256831   26332.62 -0.04\n",
              "1384  Iceland    Europe  1992    78.77  259012   25144.39  0.83\n",
              "1385  Iceland    Europe  1993    78.98  261270   25030.86  0.21\n",
              "1386  Iceland    Europe  1994    79.24  266075   25941.54  0.26\n",
              "1387  Iceland    Europe  1995    78.05  267527   25840.49 -1.19\n",
              "1388  Iceland    Europe  1996    78.84  269000   27027.25  0.79\n",
              "1389  Iceland    Europe  1997    78.95  271192   28061.10  0.11\n",
              "1390  Iceland    Europe  1998    79.67  274000   29256.70  0.72\n",
              "1391  Iceland    Europe  1999    79.46  277280   30042.94 -0.21\n",
              "1392  Iceland    Europe  2000    79.72  281043   31092.03  0.26\n",
              "1393  Iceland    Europe  2001    80.64  284812   31830.54  0.92\n",
              "1394  Iceland    Europe  2002    80.50  288030   31163.20 -0.14\n",
              "1395  Iceland    Europe  2003    81.06  291064   31937.01  0.56\n",
              "1396  Iceland    Europe  2004    80.95  293966   34279.18 -0.11\n",
              "1397  Iceland    Europe  2005    81.43  296737   35630.00  0.48\n",
              "1398  Iceland    Europe  2006    81.12  299388   36233.27 -0.31\n",
              "1399  Iceland    Europe  2007    81.76  301931   36180.79  0.64"
            ]
          },
          "metadata": {
            "tags": []
          },
          "execution_count": 111
        }
      ]
    },
    {
      "cell_type": "code",
      "metadata": {
        "colab": {
          "base_uri": "https://localhost:8080/",
          "height": 1000
        },
        "collapsed": true,
        "id": "_wK-Mv9KeCPX",
        "outputId": "75a8fda7-035a-4c53-ddaa-12e40945955a"
      },
      "source": [
        "df_country_year[df_country_year['country']=='Portugal']"
      ],
      "execution_count": 110,
      "outputs": [
        {
          "output_type": "execute_result",
          "data": {
            "text/html": [
              "<div>\n",
              "<style scoped>\n",
              "    .dataframe tbody tr th:only-of-type {\n",
              "        vertical-align: middle;\n",
              "    }\n",
              "\n",
              "    .dataframe tbody tr th {\n",
              "        vertical-align: top;\n",
              "    }\n",
              "\n",
              "    .dataframe thead th {\n",
              "        text-align: right;\n",
              "    }\n",
              "</style>\n",
              "<table border=\"1\" class=\"dataframe\">\n",
              "  <thead>\n",
              "    <tr style=\"text-align: right;\">\n",
              "      <th></th>\n",
              "      <th>country</th>\n",
              "      <th>continent</th>\n",
              "      <th>year</th>\n",
              "      <th>lifeExp</th>\n",
              "      <th>pop</th>\n",
              "      <th>gdpPercap</th>\n",
              "      <th>diff</th>\n",
              "    </tr>\n",
              "  </thead>\n",
              "  <tbody>\n",
              "    <tr>\n",
              "      <th>2388</th>\n",
              "      <td>Portugal</td>\n",
              "      <td>Europe</td>\n",
              "      <td>1950</td>\n",
              "      <td>58.53</td>\n",
              "      <td>8442750</td>\n",
              "      <td>2961.89</td>\n",
              "      <td>nan</td>\n",
              "    </tr>\n",
              "    <tr>\n",
              "      <th>2389</th>\n",
              "      <td>Portugal</td>\n",
              "      <td>Europe</td>\n",
              "      <td>1951</td>\n",
              "      <td>58.72</td>\n",
              "      <td>8490250</td>\n",
              "      <td>3077.24</td>\n",
              "      <td>0.19</td>\n",
              "    </tr>\n",
              "    <tr>\n",
              "      <th>2390</th>\n",
              "      <td>Portugal</td>\n",
              "      <td>Europe</td>\n",
              "      <td>1952</td>\n",
              "      <td>59.82</td>\n",
              "      <td>8526050</td>\n",
              "      <td>3068.32</td>\n",
              "      <td>1.10</td>\n",
              "    </tr>\n",
              "    <tr>\n",
              "      <th>2391</th>\n",
              "      <td>Portugal</td>\n",
              "      <td>Europe</td>\n",
              "      <td>1953</td>\n",
              "      <td>61.12</td>\n",
              "      <td>8578950</td>\n",
              "      <td>3262.20</td>\n",
              "      <td>1.30</td>\n",
              "    </tr>\n",
              "    <tr>\n",
              "      <th>2392</th>\n",
              "      <td>Portugal</td>\n",
              "      <td>Europe</td>\n",
              "      <td>1954</td>\n",
              "      <td>62.26</td>\n",
              "      <td>8632100</td>\n",
              "      <td>3397.69</td>\n",
              "      <td>1.14</td>\n",
              "    </tr>\n",
              "    <tr>\n",
              "      <th>2393</th>\n",
              "      <td>Portugal</td>\n",
              "      <td>Europe</td>\n",
              "      <td>1955</td>\n",
              "      <td>61.43</td>\n",
              "      <td>8692600</td>\n",
              "      <td>3513.19</td>\n",
              "      <td>-0.83</td>\n",
              "    </tr>\n",
              "    <tr>\n",
              "      <th>2394</th>\n",
              "      <td>Portugal</td>\n",
              "      <td>Europe</td>\n",
              "      <td>1956</td>\n",
              "      <td>61.24</td>\n",
              "      <td>8756000</td>\n",
              "      <td>3639.99</td>\n",
              "      <td>-0.19</td>\n",
              "    </tr>\n",
              "    <tr>\n",
              "      <th>2395</th>\n",
              "      <td>Portugal</td>\n",
              "      <td>Europe</td>\n",
              "      <td>1957</td>\n",
              "      <td>61.51</td>\n",
              "      <td>8817650</td>\n",
              "      <td>3774.57</td>\n",
              "      <td>0.27</td>\n",
              "    </tr>\n",
              "    <tr>\n",
              "      <th>2396</th>\n",
              "      <td>Portugal</td>\n",
              "      <td>Europe</td>\n",
              "      <td>1958</td>\n",
              "      <td>63.81</td>\n",
              "      <td>8888550</td>\n",
              "      <td>3793.66</td>\n",
              "      <td>2.30</td>\n",
              "    </tr>\n",
              "    <tr>\n",
              "      <th>2397</th>\n",
              "      <td>Portugal</td>\n",
              "      <td>Europe</td>\n",
              "      <td>1959</td>\n",
              "      <td>62.99</td>\n",
              "      <td>8961550</td>\n",
              "      <td>3966.47</td>\n",
              "      <td>-0.82</td>\n",
              "    </tr>\n",
              "    <tr>\n",
              "      <th>2398</th>\n",
              "      <td>Portugal</td>\n",
              "      <td>Europe</td>\n",
              "      <td>1960</td>\n",
              "      <td>64.25</td>\n",
              "      <td>9036700</td>\n",
              "      <td>4196.15</td>\n",
              "      <td>1.26</td>\n",
              "    </tr>\n",
              "    <tr>\n",
              "      <th>2399</th>\n",
              "      <td>Portugal</td>\n",
              "      <td>Europe</td>\n",
              "      <td>1961</td>\n",
              "      <td>62.87</td>\n",
              "      <td>9031200</td>\n",
              "      <td>4428.04</td>\n",
              "      <td>-1.38</td>\n",
              "    </tr>\n",
              "    <tr>\n",
              "      <th>2400</th>\n",
              "      <td>Portugal</td>\n",
              "      <td>Europe</td>\n",
              "      <td>1962</td>\n",
              "      <td>64.39</td>\n",
              "      <td>9019800</td>\n",
              "      <td>4727.95</td>\n",
              "      <td>1.52</td>\n",
              "    </tr>\n",
              "    <tr>\n",
              "      <th>2401</th>\n",
              "      <td>Portugal</td>\n",
              "      <td>Europe</td>\n",
              "      <td>1963</td>\n",
              "      <td>65.02</td>\n",
              "      <td>9081600</td>\n",
              "      <td>4974.50</td>\n",
              "      <td>0.63</td>\n",
              "    </tr>\n",
              "    <tr>\n",
              "      <th>2402</th>\n",
              "      <td>Portugal</td>\n",
              "      <td>Europe</td>\n",
              "      <td>1964</td>\n",
              "      <td>65.24</td>\n",
              "      <td>9122500</td>\n",
              "      <td>5278.68</td>\n",
              "      <td>0.22</td>\n",
              "    </tr>\n",
              "    <tr>\n",
              "      <th>2403</th>\n",
              "      <td>Portugal</td>\n",
              "      <td>Europe</td>\n",
              "      <td>1965</td>\n",
              "      <td>66.19</td>\n",
              "      <td>9128850</td>\n",
              "      <td>5667.66</td>\n",
              "      <td>0.95</td>\n",
              "    </tr>\n",
              "    <tr>\n",
              "      <th>2404</th>\n",
              "      <td>Portugal</td>\n",
              "      <td>Europe</td>\n",
              "      <td>1966</td>\n",
              "      <td>65.70</td>\n",
              "      <td>9108800</td>\n",
              "      <td>5911.27</td>\n",
              "      <td>-0.49</td>\n",
              "    </tr>\n",
              "    <tr>\n",
              "      <th>2405</th>\n",
              "      <td>Portugal</td>\n",
              "      <td>Europe</td>\n",
              "      <td>1967</td>\n",
              "      <td>66.60</td>\n",
              "      <td>9103000</td>\n",
              "      <td>6361.52</td>\n",
              "      <td>0.90</td>\n",
              "    </tr>\n",
              "    <tr>\n",
              "      <th>2406</th>\n",
              "      <td>Portugal</td>\n",
              "      <td>Europe</td>\n",
              "      <td>1968</td>\n",
              "      <td>66.91</td>\n",
              "      <td>9115050</td>\n",
              "      <td>6918.30</td>\n",
              "      <td>0.31</td>\n",
              "    </tr>\n",
              "    <tr>\n",
              "      <th>2407</th>\n",
              "      <td>Portugal</td>\n",
              "      <td>Europe</td>\n",
              "      <td>1969</td>\n",
              "      <td>66.52</td>\n",
              "      <td>9097200</td>\n",
              "      <td>7079.03</td>\n",
              "      <td>-0.39</td>\n",
              "    </tr>\n",
              "    <tr>\n",
              "      <th>2408</th>\n",
              "      <td>Portugal</td>\n",
              "      <td>Europe</td>\n",
              "      <td>1970</td>\n",
              "      <td>67.17</td>\n",
              "      <td>9044200</td>\n",
              "      <td>7769.41</td>\n",
              "      <td>0.65</td>\n",
              "    </tr>\n",
              "    <tr>\n",
              "      <th>2409</th>\n",
              "      <td>Portugal</td>\n",
              "      <td>Europe</td>\n",
              "      <td>1971</td>\n",
              "      <td>66.94</td>\n",
              "      <td>8990450</td>\n",
              "      <td>8334.25</td>\n",
              "      <td>-0.23</td>\n",
              "    </tr>\n",
              "    <tr>\n",
              "      <th>2410</th>\n",
              "      <td>Portugal</td>\n",
              "      <td>Europe</td>\n",
              "      <td>1972</td>\n",
              "      <td>69.26</td>\n",
              "      <td>8970450</td>\n",
              "      <td>9022.25</td>\n",
              "      <td>2.32</td>\n",
              "    </tr>\n",
              "    <tr>\n",
              "      <th>2411</th>\n",
              "      <td>Portugal</td>\n",
              "      <td>Europe</td>\n",
              "      <td>1973</td>\n",
              "      <td>68.66</td>\n",
              "      <td>8975950</td>\n",
              "      <td>10026.71</td>\n",
              "      <td>-0.60</td>\n",
              "    </tr>\n",
              "    <tr>\n",
              "      <th>2412</th>\n",
              "      <td>Portugal</td>\n",
              "      <td>Europe</td>\n",
              "      <td>1974</td>\n",
              "      <td>69.21</td>\n",
              "      <td>9098300</td>\n",
              "      <td>10005.00</td>\n",
              "      <td>0.55</td>\n",
              "    </tr>\n",
              "    <tr>\n",
              "      <th>2413</th>\n",
              "      <td>Portugal</td>\n",
              "      <td>Europe</td>\n",
              "      <td>1975</td>\n",
              "      <td>68.93</td>\n",
              "      <td>9411090</td>\n",
              "      <td>9251.92</td>\n",
              "      <td>-0.28</td>\n",
              "    </tr>\n",
              "    <tr>\n",
              "      <th>2414</th>\n",
              "      <td>Portugal</td>\n",
              "      <td>Europe</td>\n",
              "      <td>1976</td>\n",
              "      <td>69.16</td>\n",
              "      <td>9621970</td>\n",
              "      <td>9673.53</td>\n",
              "      <td>0.23</td>\n",
              "    </tr>\n",
              "    <tr>\n",
              "      <th>2415</th>\n",
              "      <td>Portugal</td>\n",
              "      <td>Europe</td>\n",
              "      <td>1977</td>\n",
              "      <td>70.41</td>\n",
              "      <td>9662600</td>\n",
              "      <td>10172.49</td>\n",
              "      <td>1.25</td>\n",
              "    </tr>\n",
              "    <tr>\n",
              "      <th>2416</th>\n",
              "      <td>Portugal</td>\n",
              "      <td>Europe</td>\n",
              "      <td>1978</td>\n",
              "      <td>70.87</td>\n",
              "      <td>9698780</td>\n",
              "      <td>10419.96</td>\n",
              "      <td>0.46</td>\n",
              "    </tr>\n",
              "    <tr>\n",
              "      <th>2417</th>\n",
              "      <td>Portugal</td>\n",
              "      <td>Europe</td>\n",
              "      <td>1979</td>\n",
              "      <td>71.68</td>\n",
              "      <td>9724560</td>\n",
              "      <td>10978.31</td>\n",
              "      <td>0.81</td>\n",
              "    </tr>\n",
              "    <tr>\n",
              "      <th>2418</th>\n",
              "      <td>Portugal</td>\n",
              "      <td>Europe</td>\n",
              "      <td>1980</td>\n",
              "      <td>71.75</td>\n",
              "      <td>9777800</td>\n",
              "      <td>11419.72</td>\n",
              "      <td>0.07</td>\n",
              "    </tr>\n",
              "    <tr>\n",
              "      <th>2419</th>\n",
              "      <td>Portugal</td>\n",
              "      <td>Europe</td>\n",
              "      <td>1981</td>\n",
              "      <td>71.94</td>\n",
              "      <td>9850079</td>\n",
              "      <td>11519.39</td>\n",
              "      <td>0.19</td>\n",
              "    </tr>\n",
              "    <tr>\n",
              "      <th>2420</th>\n",
              "      <td>Portugal</td>\n",
              "      <td>Europe</td>\n",
              "      <td>1982</td>\n",
              "      <td>72.77</td>\n",
              "      <td>9859650</td>\n",
              "      <td>11753.84</td>\n",
              "      <td>0.83</td>\n",
              "    </tr>\n",
              "    <tr>\n",
              "      <th>2421</th>\n",
              "      <td>Portugal</td>\n",
              "      <td>Europe</td>\n",
              "      <td>1983</td>\n",
              "      <td>72.69</td>\n",
              "      <td>9872243</td>\n",
              "      <td>11718.43</td>\n",
              "      <td>-0.08</td>\n",
              "    </tr>\n",
              "    <tr>\n",
              "      <th>2422</th>\n",
              "      <td>Portugal</td>\n",
              "      <td>Europe</td>\n",
              "      <td>1984</td>\n",
              "      <td>72.98</td>\n",
              "      <td>9885387</td>\n",
              "      <td>11482.99</td>\n",
              "      <td>0.29</td>\n",
              "    </tr>\n",
              "    <tr>\n",
              "      <th>2423</th>\n",
              "      <td>Portugal</td>\n",
              "      <td>Europe</td>\n",
              "      <td>1985</td>\n",
              "      <td>73.26</td>\n",
              "      <td>9897192</td>\n",
              "      <td>11791.30</td>\n",
              "      <td>0.28</td>\n",
              "    </tr>\n",
              "    <tr>\n",
              "      <th>2424</th>\n",
              "      <td>Portugal</td>\n",
              "      <td>Europe</td>\n",
              "      <td>1986</td>\n",
              "      <td>73.66</td>\n",
              "      <td>9907411</td>\n",
              "      <td>12266.89</td>\n",
              "      <td>0.40</td>\n",
              "    </tr>\n",
              "    <tr>\n",
              "      <th>2425</th>\n",
              "      <td>Portugal</td>\n",
              "      <td>Europe</td>\n",
              "      <td>1987</td>\n",
              "      <td>74.06</td>\n",
              "      <td>9915289</td>\n",
              "      <td>13039.31</td>\n",
              "      <td>0.40</td>\n",
              "    </tr>\n",
              "    <tr>\n",
              "      <th>2426</th>\n",
              "      <td>Portugal</td>\n",
              "      <td>Europe</td>\n",
              "      <td>1988</td>\n",
              "      <td>74.07</td>\n",
              "      <td>9920611</td>\n",
              "      <td>14008.38</td>\n",
              "      <td>0.01</td>\n",
              "    </tr>\n",
              "    <tr>\n",
              "      <th>2427</th>\n",
              "      <td>Portugal</td>\n",
              "      <td>Europe</td>\n",
              "      <td>1989</td>\n",
              "      <td>74.63</td>\n",
              "      <td>9923147</td>\n",
              "      <td>14724.11</td>\n",
              "      <td>0.56</td>\n",
              "    </tr>\n",
              "    <tr>\n",
              "      <th>2428</th>\n",
              "      <td>Portugal</td>\n",
              "      <td>Europe</td>\n",
              "      <td>1990</td>\n",
              "      <td>74.25</td>\n",
              "      <td>9922689</td>\n",
              "      <td>15369.31</td>\n",
              "      <td>-0.38</td>\n",
              "    </tr>\n",
              "    <tr>\n",
              "      <th>2429</th>\n",
              "      <td>Portugal</td>\n",
              "      <td>Europe</td>\n",
              "      <td>1991</td>\n",
              "      <td>74.19</td>\n",
              "      <td>9919009</td>\n",
              "      <td>16046.61</td>\n",
              "      <td>-0.06</td>\n",
              "    </tr>\n",
              "    <tr>\n",
              "      <th>2430</th>\n",
              "      <td>Portugal</td>\n",
              "      <td>Europe</td>\n",
              "      <td>1992</td>\n",
              "      <td>74.86</td>\n",
              "      <td>9927680</td>\n",
              "      <td>16207.27</td>\n",
              "      <td>0.67</td>\n",
              "    </tr>\n",
              "    <tr>\n",
              "      <th>2431</th>\n",
              "      <td>Portugal</td>\n",
              "      <td>Europe</td>\n",
              "      <td>1993</td>\n",
              "      <td>74.77</td>\n",
              "      <td>9967832</td>\n",
              "      <td>15812.16</td>\n",
              "      <td>-0.09</td>\n",
              "    </tr>\n",
              "    <tr>\n",
              "      <th>2432</th>\n",
              "      <td>Portugal</td>\n",
              "      <td>Europe</td>\n",
              "      <td>1994</td>\n",
              "      <td>75.76</td>\n",
              "      <td>10027688</td>\n",
              "      <td>15869.43</td>\n",
              "      <td>0.99</td>\n",
              "    </tr>\n",
              "    <tr>\n",
              "      <th>2433</th>\n",
              "      <td>Portugal</td>\n",
              "      <td>Europe</td>\n",
              "      <td>1995</td>\n",
              "      <td>75.58</td>\n",
              "      <td>10065543</td>\n",
              "      <td>16486.84</td>\n",
              "      <td>-0.18</td>\n",
              "    </tr>\n",
              "    <tr>\n",
              "      <th>2434</th>\n",
              "      <td>Portugal</td>\n",
              "      <td>Europe</td>\n",
              "      <td>1996</td>\n",
              "      <td>75.53</td>\n",
              "      <td>10099918</td>\n",
              "      <td>17027.45</td>\n",
              "      <td>-0.05</td>\n",
              "    </tr>\n",
              "    <tr>\n",
              "      <th>2435</th>\n",
              "      <td>Portugal</td>\n",
              "      <td>Europe</td>\n",
              "      <td>1997</td>\n",
              "      <td>75.97</td>\n",
              "      <td>10156415</td>\n",
              "      <td>17641.03</td>\n",
              "      <td>0.44</td>\n",
              "    </tr>\n",
              "    <tr>\n",
              "      <th>2436</th>\n",
              "      <td>Portugal</td>\n",
              "      <td>Europe</td>\n",
              "      <td>1998</td>\n",
              "      <td>76.18</td>\n",
              "      <td>10224828</td>\n",
              "      <td>18368.52</td>\n",
              "      <td>0.21</td>\n",
              "    </tr>\n",
              "    <tr>\n",
              "      <th>2437</th>\n",
              "      <td>Portugal</td>\n",
              "      <td>Europe</td>\n",
              "      <td>1999</td>\n",
              "      <td>76.35</td>\n",
              "      <td>10283381</td>\n",
              "      <td>18959.84</td>\n",
              "      <td>0.17</td>\n",
              "    </tr>\n",
              "    <tr>\n",
              "      <th>2438</th>\n",
              "      <td>Portugal</td>\n",
              "      <td>Europe</td>\n",
              "      <td>2000</td>\n",
              "      <td>76.83</td>\n",
              "      <td>10335597</td>\n",
              "      <td>19609.73</td>\n",
              "      <td>0.48</td>\n",
              "    </tr>\n",
              "    <tr>\n",
              "      <th>2439</th>\n",
              "      <td>Portugal</td>\n",
              "      <td>Europe</td>\n",
              "      <td>2001</td>\n",
              "      <td>77.11</td>\n",
              "      <td>10386753</td>\n",
              "      <td>19904.87</td>\n",
              "      <td>0.28</td>\n",
              "    </tr>\n",
              "    <tr>\n",
              "      <th>2440</th>\n",
              "      <td>Portugal</td>\n",
              "      <td>Europe</td>\n",
              "      <td>2002</td>\n",
              "      <td>77.29</td>\n",
              "      <td>10433867</td>\n",
              "      <td>19970.91</td>\n",
              "      <td>0.18</td>\n",
              "    </tr>\n",
              "    <tr>\n",
              "      <th>2441</th>\n",
              "      <td>Portugal</td>\n",
              "      <td>Europe</td>\n",
              "      <td>2003</td>\n",
              "      <td>77.48</td>\n",
              "      <td>10479955</td>\n",
              "      <td>19727.84</td>\n",
              "      <td>0.19</td>\n",
              "    </tr>\n",
              "    <tr>\n",
              "      <th>2442</th>\n",
              "      <td>Portugal</td>\n",
              "      <td>Europe</td>\n",
              "      <td>2004</td>\n",
              "      <td>78.31</td>\n",
              "      <td>10524145</td>\n",
              "      <td>19942.44</td>\n",
              "      <td>0.83</td>\n",
              "    </tr>\n",
              "    <tr>\n",
              "      <th>2443</th>\n",
              "      <td>Portugal</td>\n",
              "      <td>Europe</td>\n",
              "      <td>2005</td>\n",
              "      <td>78.18</td>\n",
              "      <td>10566212</td>\n",
              "      <td>20006.00</td>\n",
              "      <td>-0.13</td>\n",
              "    </tr>\n",
              "    <tr>\n",
              "      <th>2444</th>\n",
              "      <td>Portugal</td>\n",
              "      <td>Europe</td>\n",
              "      <td>2006</td>\n",
              "      <td>78.92</td>\n",
              "      <td>10605870</td>\n",
              "      <td>20149.08</td>\n",
              "      <td>0.74</td>\n",
              "    </tr>\n",
              "    <tr>\n",
              "      <th>2445</th>\n",
              "      <td>Portugal</td>\n",
              "      <td>Europe</td>\n",
              "      <td>2007</td>\n",
              "      <td>78.10</td>\n",
              "      <td>10642836</td>\n",
              "      <td>20509.65</td>\n",
              "      <td>-0.82</td>\n",
              "    </tr>\n",
              "  </tbody>\n",
              "</table>\n",
              "</div>"
            ],
            "text/plain": [
              "       country continent  year  lifeExp       pop  gdpPercap  diff\n",
              "2388  Portugal    Europe  1950    58.53   8442750    2961.89   nan\n",
              "2389  Portugal    Europe  1951    58.72   8490250    3077.24  0.19\n",
              "2390  Portugal    Europe  1952    59.82   8526050    3068.32  1.10\n",
              "2391  Portugal    Europe  1953    61.12   8578950    3262.20  1.30\n",
              "2392  Portugal    Europe  1954    62.26   8632100    3397.69  1.14\n",
              "2393  Portugal    Europe  1955    61.43   8692600    3513.19 -0.83\n",
              "2394  Portugal    Europe  1956    61.24   8756000    3639.99 -0.19\n",
              "2395  Portugal    Europe  1957    61.51   8817650    3774.57  0.27\n",
              "2396  Portugal    Europe  1958    63.81   8888550    3793.66  2.30\n",
              "2397  Portugal    Europe  1959    62.99   8961550    3966.47 -0.82\n",
              "2398  Portugal    Europe  1960    64.25   9036700    4196.15  1.26\n",
              "2399  Portugal    Europe  1961    62.87   9031200    4428.04 -1.38\n",
              "2400  Portugal    Europe  1962    64.39   9019800    4727.95  1.52\n",
              "2401  Portugal    Europe  1963    65.02   9081600    4974.50  0.63\n",
              "2402  Portugal    Europe  1964    65.24   9122500    5278.68  0.22\n",
              "2403  Portugal    Europe  1965    66.19   9128850    5667.66  0.95\n",
              "2404  Portugal    Europe  1966    65.70   9108800    5911.27 -0.49\n",
              "2405  Portugal    Europe  1967    66.60   9103000    6361.52  0.90\n",
              "2406  Portugal    Europe  1968    66.91   9115050    6918.30  0.31\n",
              "2407  Portugal    Europe  1969    66.52   9097200    7079.03 -0.39\n",
              "2408  Portugal    Europe  1970    67.17   9044200    7769.41  0.65\n",
              "2409  Portugal    Europe  1971    66.94   8990450    8334.25 -0.23\n",
              "2410  Portugal    Europe  1972    69.26   8970450    9022.25  2.32\n",
              "2411  Portugal    Europe  1973    68.66   8975950   10026.71 -0.60\n",
              "2412  Portugal    Europe  1974    69.21   9098300   10005.00  0.55\n",
              "2413  Portugal    Europe  1975    68.93   9411090    9251.92 -0.28\n",
              "2414  Portugal    Europe  1976    69.16   9621970    9673.53  0.23\n",
              "2415  Portugal    Europe  1977    70.41   9662600   10172.49  1.25\n",
              "2416  Portugal    Europe  1978    70.87   9698780   10419.96  0.46\n",
              "2417  Portugal    Europe  1979    71.68   9724560   10978.31  0.81\n",
              "2418  Portugal    Europe  1980    71.75   9777800   11419.72  0.07\n",
              "2419  Portugal    Europe  1981    71.94   9850079   11519.39  0.19\n",
              "2420  Portugal    Europe  1982    72.77   9859650   11753.84  0.83\n",
              "2421  Portugal    Europe  1983    72.69   9872243   11718.43 -0.08\n",
              "2422  Portugal    Europe  1984    72.98   9885387   11482.99  0.29\n",
              "2423  Portugal    Europe  1985    73.26   9897192   11791.30  0.28\n",
              "2424  Portugal    Europe  1986    73.66   9907411   12266.89  0.40\n",
              "2425  Portugal    Europe  1987    74.06   9915289   13039.31  0.40\n",
              "2426  Portugal    Europe  1988    74.07   9920611   14008.38  0.01\n",
              "2427  Portugal    Europe  1989    74.63   9923147   14724.11  0.56\n",
              "2428  Portugal    Europe  1990    74.25   9922689   15369.31 -0.38\n",
              "2429  Portugal    Europe  1991    74.19   9919009   16046.61 -0.06\n",
              "2430  Portugal    Europe  1992    74.86   9927680   16207.27  0.67\n",
              "2431  Portugal    Europe  1993    74.77   9967832   15812.16 -0.09\n",
              "2432  Portugal    Europe  1994    75.76  10027688   15869.43  0.99\n",
              "2433  Portugal    Europe  1995    75.58  10065543   16486.84 -0.18\n",
              "2434  Portugal    Europe  1996    75.53  10099918   17027.45 -0.05\n",
              "2435  Portugal    Europe  1997    75.97  10156415   17641.03  0.44\n",
              "2436  Portugal    Europe  1998    76.18  10224828   18368.52  0.21\n",
              "2437  Portugal    Europe  1999    76.35  10283381   18959.84  0.17\n",
              "2438  Portugal    Europe  2000    76.83  10335597   19609.73  0.48\n",
              "2439  Portugal    Europe  2001    77.11  10386753   19904.87  0.28\n",
              "2440  Portugal    Europe  2002    77.29  10433867   19970.91  0.18\n",
              "2441  Portugal    Europe  2003    77.48  10479955   19727.84  0.19\n",
              "2442  Portugal    Europe  2004    78.31  10524145   19942.44  0.83\n",
              "2443  Portugal    Europe  2005    78.18  10566212   20006.00 -0.13\n",
              "2444  Portugal    Europe  2006    78.92  10605870   20149.08  0.74\n",
              "2445  Portugal    Europe  2007    78.10  10642836   20509.65 -0.82"
            ]
          },
          "metadata": {
            "tags": []
          },
          "execution_count": 110
        }
      ]
    },
    {
      "cell_type": "markdown",
      "metadata": {
        "id": "F7tG1y0JfSMJ"
      },
      "source": [
        "##Alguns gráficos que demonstram a expectativa de vida com o tempo"
      ]
    },
    {
      "cell_type": "markdown",
      "metadata": {
        "id": "mbw6o6uVQQKh"
      },
      "source": [
        "#Análise da População"
      ]
    },
    {
      "cell_type": "markdown",
      "metadata": {
        "id": "uAxo_fFcQWR4"
      },
      "source": [
        "#Análise do PIB per capita"
      ]
    },
    {
      "cell_type": "markdown",
      "metadata": {
        "id": "iSlW4QA7PCpt"
      },
      "source": [
        "#Correlação entre população e expectativa de vida"
      ]
    },
    {
      "cell_type": "code",
      "metadata": {
        "id": "6DqZR9j8PUVL"
      },
      "source": [
        ""
      ],
      "execution_count": null,
      "outputs": []
    },
    {
      "cell_type": "markdown",
      "metadata": {
        "id": "W5373jy1PKjq"
      },
      "source": [
        "#Correlação entre PIB per capta e expectativa de vida"
      ]
    },
    {
      "cell_type": "code",
      "metadata": {
        "id": "uUn0bh2_PVdR"
      },
      "source": [
        ""
      ],
      "execution_count": null,
      "outputs": []
    }
  ]
}